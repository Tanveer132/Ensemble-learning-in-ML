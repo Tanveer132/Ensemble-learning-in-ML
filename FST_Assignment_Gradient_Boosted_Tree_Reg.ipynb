{
  "nbformat": 4,
  "nbformat_minor": 0,
  "metadata": {
    "colab": {
      "name": "FST_Assignment_Gradient Boosted Tree Reg.ipynb",
      "provenance": [],
      "authorship_tag": "ABX9TyP9PcoADt2MDvRhF8wn13Pf",
      "include_colab_link": true
    },
    "kernelspec": {
      "name": "python3",
      "display_name": "Python 3"
    },
    "language_info": {
      "name": "python"
    }
  },
  "cells": [
    {
      "cell_type": "markdown",
      "metadata": {
        "id": "view-in-github",
        "colab_type": "text"
      },
      "source": [
        "<a href=\"https://colab.research.google.com/github/Tanveer132/Ensemble-learning-in-ML/blob/main/FST_Assignment_Gradient_Boosted_Tree_Reg.ipynb\" target=\"_parent\"><img src=\"https://colab.research.google.com/assets/colab-badge.svg\" alt=\"Open In Colab\"/></a>"
      ]
    },
    {
      "cell_type": "markdown",
      "metadata": {
        "id": "3ihhea4Gt8p6"
      },
      "source": [
        "#Gradient Boosted Tree regression \n",
        "\n",
        "data - power consumption data "
      ]
    },
    {
      "cell_type": "code",
      "metadata": {
        "id": "8pEILvfst7AP"
      },
      "source": [
        "import numpy as np\n",
        "import pandas as pd\n",
        "import matplotlib.pyplot as plt\n",
        "import seaborn as sns\n",
        "\n",
        "from sklearn.preprocessing import StandardScaler\n",
        "from sklearn.metrics import accuracy_score,classification_report,confusion_matrix,r2_score\n",
        "\n",
        "from sklearn.ensemble import GradientBoostingRegressor\n"
      ],
      "execution_count": 24,
      "outputs": []
    },
    {
      "cell_type": "code",
      "metadata": {
        "colab": {
          "base_uri": "https://localhost:8080/",
          "height": 238
        },
        "id": "PrB2GJXCufyZ",
        "outputId": "4574bace-f495-4f36-cd31-9f1878b0f10b"
      },
      "source": [
        "df=pd.read_csv('/content/PJME_hourly.csv',parse_dates=True,index_col='Datetime')\n",
        "df.head()"
      ],
      "execution_count": 6,
      "outputs": [
        {
          "output_type": "execute_result",
          "data": {
            "text/html": [
              "<div>\n",
              "<style scoped>\n",
              "    .dataframe tbody tr th:only-of-type {\n",
              "        vertical-align: middle;\n",
              "    }\n",
              "\n",
              "    .dataframe tbody tr th {\n",
              "        vertical-align: top;\n",
              "    }\n",
              "\n",
              "    .dataframe thead th {\n",
              "        text-align: right;\n",
              "    }\n",
              "</style>\n",
              "<table border=\"1\" class=\"dataframe\">\n",
              "  <thead>\n",
              "    <tr style=\"text-align: right;\">\n",
              "      <th></th>\n",
              "      <th>PJME_MW</th>\n",
              "    </tr>\n",
              "    <tr>\n",
              "      <th>Datetime</th>\n",
              "      <th></th>\n",
              "    </tr>\n",
              "  </thead>\n",
              "  <tbody>\n",
              "    <tr>\n",
              "      <th>2002-12-31 01:00:00</th>\n",
              "      <td>26498</td>\n",
              "    </tr>\n",
              "    <tr>\n",
              "      <th>2002-12-31 02:00:00</th>\n",
              "      <td>25147</td>\n",
              "    </tr>\n",
              "    <tr>\n",
              "      <th>2002-12-31 03:00:00</th>\n",
              "      <td>24574</td>\n",
              "    </tr>\n",
              "    <tr>\n",
              "      <th>2002-12-31 04:00:00</th>\n",
              "      <td>24393</td>\n",
              "    </tr>\n",
              "    <tr>\n",
              "      <th>2002-12-31 05:00:00</th>\n",
              "      <td>24860</td>\n",
              "    </tr>\n",
              "  </tbody>\n",
              "</table>\n",
              "</div>"
            ],
            "text/plain": [
              "                     PJME_MW\n",
              "Datetime                    \n",
              "2002-12-31 01:00:00    26498\n",
              "2002-12-31 02:00:00    25147\n",
              "2002-12-31 03:00:00    24574\n",
              "2002-12-31 04:00:00    24393\n",
              "2002-12-31 05:00:00    24860"
            ]
          },
          "metadata": {
            "tags": []
          },
          "execution_count": 6
        }
      ]
    },
    {
      "cell_type": "code",
      "metadata": {
        "colab": {
          "base_uri": "https://localhost:8080/"
        },
        "id": "W3i5C1ePv1aH",
        "outputId": "62a69619-73ee-416a-b77f-1c265b52c790"
      },
      "source": [
        "df.info()"
      ],
      "execution_count": 7,
      "outputs": [
        {
          "output_type": "stream",
          "text": [
            "<class 'pandas.core.frame.DataFrame'>\n",
            "DatetimeIndex: 145366 entries, 2002-12-31 01:00:00 to 2018-01-02 00:00:00\n",
            "Data columns (total 1 columns):\n",
            " #   Column   Non-Null Count   Dtype\n",
            "---  ------   --------------   -----\n",
            " 0   PJME_MW  145366 non-null  int64\n",
            "dtypes: int64(1)\n",
            "memory usage: 2.2 MB\n"
          ],
          "name": "stdout"
        }
      ]
    },
    {
      "cell_type": "code",
      "metadata": {
        "colab": {
          "base_uri": "https://localhost:8080/"
        },
        "id": "UpUdYeZawKpO",
        "outputId": "a0b9ad33-fc99-4ba7-e6e9-21ef656f25e9"
      },
      "source": [
        "train=df.loc['2002-12-31':'2013-12-31',:]\n",
        "test=df.loc['2013-12-31':'2018-01-02',:]\n",
        "\n",
        "train.shape,test.shape"
      ],
      "execution_count": 13,
      "outputs": [
        {
          "output_type": "execute_result",
          "data": {
            "text/plain": [
              "((96433, 1), (35136, 1))"
            ]
          },
          "metadata": {
            "tags": []
          },
          "execution_count": 13
        }
      ]
    },
    {
      "cell_type": "code",
      "metadata": {
        "id": "w63OB9I4wkGE"
      },
      "source": [
        "\n",
        "scaler=StandardScaler()\n",
        "sctrain=scaler.fit_transform(train)\n",
        "sctest=scaler.fit_transform(test)"
      ],
      "execution_count": 14,
      "outputs": []
    },
    {
      "cell_type": "code",
      "metadata": {
        "id": "zwkYDnQzxv8Q"
      },
      "source": [
        "def featureTransform(n_steps,data):\n",
        "  x=[]\n",
        "  y=[]\n",
        "  for i in range(n_steps,len(data)):\n",
        "    x.append(data[i-n_steps:i,0])\n",
        "    y.append(data[i,0])\n",
        "  x,y=np.array(x),np.array(y)\n",
        "  return x,y"
      ],
      "execution_count": 15,
      "outputs": []
    },
    {
      "cell_type": "code",
      "metadata": {
        "colab": {
          "base_uri": "https://localhost:8080/"
        },
        "id": "phYHgJKzxzmD",
        "outputId": "335b9b75-7ce8-401c-f80c-ad4b301188d4"
      },
      "source": [
        "#Train data\n",
        "\n",
        "n_steps=8\n",
        "\n",
        "xtrain,ytrain=featureTransform(n_steps,sctrain)\n",
        "\n",
        "xtrain.shape,ytrain.shape"
      ],
      "execution_count": 16,
      "outputs": [
        {
          "output_type": "execute_result",
          "data": {
            "text/plain": [
              "((96425, 8), (96425,))"
            ]
          },
          "metadata": {
            "tags": []
          },
          "execution_count": 16
        }
      ]
    },
    {
      "cell_type": "code",
      "metadata": {
        "colab": {
          "base_uri": "https://localhost:8080/"
        },
        "id": "qXxxAcLex3ri",
        "outputId": "d57e1241-4a4f-4646-e606-aa5d1334db6a"
      },
      "source": [
        "#Test data\n",
        "\n",
        "n_steps=8\n",
        "\n",
        "xtest,ytest=featureTransform(n_steps,sctest)\n",
        "\n",
        "xtest.shape,ytest.shape"
      ],
      "execution_count": 18,
      "outputs": [
        {
          "output_type": "execute_result",
          "data": {
            "text/plain": [
              "((35128, 8), (35128,))"
            ]
          },
          "metadata": {
            "tags": []
          },
          "execution_count": 18
        }
      ]
    },
    {
      "cell_type": "code",
      "metadata": {
        "id": "_Ftm5LTZyM9e"
      },
      "source": [
        "model=GradientBoostingRegressor(n_estimators=100,learning_rate =0.1,criterion='mse',max_depth=3)\n",
        "model.fit(xtrain,ytrain)\n",
        "ypred=model.predict(xtest)"
      ],
      "execution_count": 21,
      "outputs": []
    },
    {
      "cell_type": "code",
      "metadata": {
        "colab": {
          "base_uri": "https://localhost:8080/",
          "height": 424
        },
        "id": "-6Osy4Kj1rol",
        "outputId": "0cb22f96-21f7-4257-9b39-2262366be98a"
      },
      "source": [
        "pd.DataFrame({\"Actual\":ytest,\"Predicted\":ypred})"
      ],
      "execution_count": 22,
      "outputs": [
        {
          "output_type": "execute_result",
          "data": {
            "text/html": [
              "<div>\n",
              "<style scoped>\n",
              "    .dataframe tbody tr th:only-of-type {\n",
              "        vertical-align: middle;\n",
              "    }\n",
              "\n",
              "    .dataframe tbody tr th {\n",
              "        vertical-align: top;\n",
              "    }\n",
              "\n",
              "    .dataframe thead th {\n",
              "        text-align: right;\n",
              "    }\n",
              "</style>\n",
              "<table border=\"1\" class=\"dataframe\">\n",
              "  <thead>\n",
              "    <tr style=\"text-align: right;\">\n",
              "      <th></th>\n",
              "      <th>Actual</th>\n",
              "      <th>Predicted</th>\n",
              "    </tr>\n",
              "  </thead>\n",
              "  <tbody>\n",
              "    <tr>\n",
              "      <th>0</th>\n",
              "      <td>0.681424</td>\n",
              "      <td>0.722982</td>\n",
              "    </tr>\n",
              "    <tr>\n",
              "      <th>1</th>\n",
              "      <td>0.704898</td>\n",
              "      <td>0.712791</td>\n",
              "    </tr>\n",
              "    <tr>\n",
              "      <th>2</th>\n",
              "      <td>0.719139</td>\n",
              "      <td>0.687151</td>\n",
              "    </tr>\n",
              "    <tr>\n",
              "      <th>3</th>\n",
              "      <td>0.684554</td>\n",
              "      <td>0.732823</td>\n",
              "    </tr>\n",
              "    <tr>\n",
              "      <th>4</th>\n",
              "      <td>0.570313</td>\n",
              "      <td>0.629928</td>\n",
              "    </tr>\n",
              "    <tr>\n",
              "      <th>...</th>\n",
              "      <td>...</td>\n",
              "      <td>...</td>\n",
              "    </tr>\n",
              "    <tr>\n",
              "      <th>35123</th>\n",
              "      <td>2.029776</td>\n",
              "      <td>1.957545</td>\n",
              "    </tr>\n",
              "    <tr>\n",
              "      <th>35124</th>\n",
              "      <td>1.946365</td>\n",
              "      <td>1.952090</td>\n",
              "    </tr>\n",
              "    <tr>\n",
              "      <th>35125</th>\n",
              "      <td>1.735254</td>\n",
              "      <td>1.821706</td>\n",
              "    </tr>\n",
              "    <tr>\n",
              "      <th>35126</th>\n",
              "      <td>1.385021</td>\n",
              "      <td>1.598098</td>\n",
              "    </tr>\n",
              "    <tr>\n",
              "      <th>35127</th>\n",
              "      <td>1.141516</td>\n",
              "      <td>1.111316</td>\n",
              "    </tr>\n",
              "  </tbody>\n",
              "</table>\n",
              "<p>35128 rows × 2 columns</p>\n",
              "</div>"
            ],
            "text/plain": [
              "         Actual  Predicted\n",
              "0      0.681424   0.722982\n",
              "1      0.704898   0.712791\n",
              "2      0.719139   0.687151\n",
              "3      0.684554   0.732823\n",
              "4      0.570313   0.629928\n",
              "...         ...        ...\n",
              "35123  2.029776   1.957545\n",
              "35124  1.946365   1.952090\n",
              "35125  1.735254   1.821706\n",
              "35126  1.385021   1.598098\n",
              "35127  1.141516   1.111316\n",
              "\n",
              "[35128 rows x 2 columns]"
            ]
          },
          "metadata": {
            "tags": []
          },
          "execution_count": 22
        }
      ]
    },
    {
      "cell_type": "code",
      "metadata": {
        "colab": {
          "base_uri": "https://localhost:8080/"
        },
        "id": "fpOMVwA32tro",
        "outputId": "e03369a8-c8f7-49f7-c056-291b1a157724"
      },
      "source": [
        "r2_score(ytest,ypred)"
      ],
      "execution_count": 25,
      "outputs": [
        {
          "output_type": "execute_result",
          "data": {
            "text/plain": [
              "0.9753857277650263"
            ]
          },
          "metadata": {
            "tags": []
          },
          "execution_count": 25
        }
      ]
    },
    {
      "cell_type": "markdown",
      "metadata": {
        "id": "rjt5Mb3i3kDQ"
      },
      "source": [
        "**Conclusion :** here we got the accuracy of 0.9753857277"
      ]
    },
    {
      "cell_type": "code",
      "metadata": {
        "id": "_fOMKN2q3itd"
      },
      "source": [
        ""
      ],
      "execution_count": null,
      "outputs": []
    }
  ]
}